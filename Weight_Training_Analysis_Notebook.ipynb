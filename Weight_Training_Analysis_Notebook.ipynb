{
 "cells": [
  {
   "cell_type": "code",
   "execution_count": 255,
   "metadata": {},
   "outputs": [],
   "source": [
    "import os\n",
    "import pandas as pd\n",
    "import numpy as np\n",
    "import matplotlib.pyplot as plt\n",
    "import seaborn as sns\n",
    "import datetime\n",
    "from pandasql import sqldf\n",
    "\n",
    "\n"
   ]
  },
  {
   "cell_type": "code",
   "execution_count": 256,
   "metadata": {},
   "outputs": [
    {
     "data": {
      "text/html": [
       "<div>\n",
       "<style scoped>\n",
       "    .dataframe tbody tr th:only-of-type {\n",
       "        vertical-align: middle;\n",
       "    }\n",
       "\n",
       "    .dataframe tbody tr th {\n",
       "        vertical-align: top;\n",
       "    }\n",
       "\n",
       "    .dataframe thead th {\n",
       "        text-align: right;\n",
       "    }\n",
       "</style>\n",
       "<table border=\"1\" class=\"dataframe\">\n",
       "  <thead>\n",
       "    <tr style=\"text-align: right;\">\n",
       "      <th></th>\n",
       "      <th>Date</th>\n",
       "      <th>Workout Name</th>\n",
       "      <th>Exercise Name</th>\n",
       "      <th>Set Order</th>\n",
       "      <th>Weight</th>\n",
       "      <th>Reps</th>\n",
       "      <th>Distance</th>\n",
       "      <th>Seconds</th>\n",
       "      <th>Notes</th>\n",
       "      <th>Workout Notes</th>\n",
       "    </tr>\n",
       "  </thead>\n",
       "  <tbody>\n",
       "    <tr>\n",
       "      <th>0</th>\n",
       "      <td>2015-10-23 17:06:37</td>\n",
       "      <td>Chest</td>\n",
       "      <td>Incline Bench Press (Barbell)</td>\n",
       "      <td>1</td>\n",
       "      <td>135.0</td>\n",
       "      <td>8</td>\n",
       "      <td>0.0</td>\n",
       "      <td>0</td>\n",
       "      <td>NaN</td>\n",
       "      <td>NaN</td>\n",
       "    </tr>\n",
       "    <tr>\n",
       "      <th>1</th>\n",
       "      <td>2015-10-23 17:06:37</td>\n",
       "      <td>Chest</td>\n",
       "      <td>Incline Bench Press (Barbell)</td>\n",
       "      <td>2</td>\n",
       "      <td>135.0</td>\n",
       "      <td>8</td>\n",
       "      <td>0.0</td>\n",
       "      <td>0</td>\n",
       "      <td>NaN</td>\n",
       "      <td>NaN</td>\n",
       "    </tr>\n",
       "    <tr>\n",
       "      <th>2</th>\n",
       "      <td>2015-10-23 17:06:37</td>\n",
       "      <td>Chest</td>\n",
       "      <td>Incline Bench Press (Barbell)</td>\n",
       "      <td>3</td>\n",
       "      <td>135.0</td>\n",
       "      <td>5</td>\n",
       "      <td>0.0</td>\n",
       "      <td>0</td>\n",
       "      <td>NaN</td>\n",
       "      <td>NaN</td>\n",
       "    </tr>\n",
       "    <tr>\n",
       "      <th>3</th>\n",
       "      <td>2015-10-23 17:06:37</td>\n",
       "      <td>Chest</td>\n",
       "      <td>Incline Bench Press (Barbell)</td>\n",
       "      <td>4</td>\n",
       "      <td>185.0</td>\n",
       "      <td>7</td>\n",
       "      <td>0.0</td>\n",
       "      <td>0</td>\n",
       "      <td>NaN</td>\n",
       "      <td>NaN</td>\n",
       "    </tr>\n",
       "    <tr>\n",
       "      <th>4</th>\n",
       "      <td>2015-10-23 17:06:37</td>\n",
       "      <td>Chest</td>\n",
       "      <td>Incline Bench Press (Barbell)</td>\n",
       "      <td>5</td>\n",
       "      <td>230.0</td>\n",
       "      <td>8</td>\n",
       "      <td>0.0</td>\n",
       "      <td>0</td>\n",
       "      <td>NaN</td>\n",
       "      <td>NaN</td>\n",
       "    </tr>\n",
       "  </tbody>\n",
       "</table>\n",
       "</div>"
      ],
      "text/plain": [
       "                  Date Workout Name                  Exercise Name  Set Order  \\\n",
       "0  2015-10-23 17:06:37        Chest  Incline Bench Press (Barbell)          1   \n",
       "1  2015-10-23 17:06:37        Chest  Incline Bench Press (Barbell)          2   \n",
       "2  2015-10-23 17:06:37        Chest  Incline Bench Press (Barbell)          3   \n",
       "3  2015-10-23 17:06:37        Chest  Incline Bench Press (Barbell)          4   \n",
       "4  2015-10-23 17:06:37        Chest  Incline Bench Press (Barbell)          5   \n",
       "\n",
       "   Weight  Reps  Distance  Seconds Notes Workout Notes  \n",
       "0   135.0     8       0.0        0   NaN           NaN  \n",
       "1   135.0     8       0.0        0   NaN           NaN  \n",
       "2   135.0     5       0.0        0   NaN           NaN  \n",
       "3   185.0     7       0.0        0   NaN           NaN  \n",
       "4   230.0     8       0.0        0   NaN           NaN  "
      ]
     },
     "execution_count": 256,
     "metadata": {},
     "output_type": "execute_result"
    }
   ],
   "source": [
    "df = pd.read_csv('data/weightlifting_workouts.csv')\n",
    "df.head()\n"
   ]
  },
  {
   "cell_type": "code",
   "execution_count": 257,
   "metadata": {},
   "outputs": [
    {
     "data": {
      "text/html": [
       "<div>\n",
       "<style scoped>\n",
       "    .dataframe tbody tr th:only-of-type {\n",
       "        vertical-align: middle;\n",
       "    }\n",
       "\n",
       "    .dataframe tbody tr th {\n",
       "        vertical-align: top;\n",
       "    }\n",
       "\n",
       "    .dataframe thead th {\n",
       "        text-align: right;\n",
       "    }\n",
       "</style>\n",
       "<table border=\"1\" class=\"dataframe\">\n",
       "  <thead>\n",
       "    <tr style=\"text-align: right;\">\n",
       "      <th></th>\n",
       "      <th>Date</th>\n",
       "      <th>Workout Name</th>\n",
       "      <th>Exercise Name</th>\n",
       "      <th>Set Order</th>\n",
       "      <th>Weight</th>\n",
       "      <th>Reps</th>\n",
       "    </tr>\n",
       "  </thead>\n",
       "  <tbody>\n",
       "    <tr>\n",
       "      <th>0</th>\n",
       "      <td>2015-10-23 17:06:37</td>\n",
       "      <td>Chest</td>\n",
       "      <td>Incline Bench Press (Barbell)</td>\n",
       "      <td>1</td>\n",
       "      <td>135.0</td>\n",
       "      <td>8</td>\n",
       "    </tr>\n",
       "    <tr>\n",
       "      <th>1</th>\n",
       "      <td>2015-10-23 17:06:37</td>\n",
       "      <td>Chest</td>\n",
       "      <td>Incline Bench Press (Barbell)</td>\n",
       "      <td>2</td>\n",
       "      <td>135.0</td>\n",
       "      <td>8</td>\n",
       "    </tr>\n",
       "    <tr>\n",
       "      <th>2</th>\n",
       "      <td>2015-10-23 17:06:37</td>\n",
       "      <td>Chest</td>\n",
       "      <td>Incline Bench Press (Barbell)</td>\n",
       "      <td>3</td>\n",
       "      <td>135.0</td>\n",
       "      <td>5</td>\n",
       "    </tr>\n",
       "    <tr>\n",
       "      <th>3</th>\n",
       "      <td>2015-10-23 17:06:37</td>\n",
       "      <td>Chest</td>\n",
       "      <td>Incline Bench Press (Barbell)</td>\n",
       "      <td>4</td>\n",
       "      <td>185.0</td>\n",
       "      <td>7</td>\n",
       "    </tr>\n",
       "    <tr>\n",
       "      <th>4</th>\n",
       "      <td>2015-10-23 17:06:37</td>\n",
       "      <td>Chest</td>\n",
       "      <td>Incline Bench Press (Barbell)</td>\n",
       "      <td>5</td>\n",
       "      <td>230.0</td>\n",
       "      <td>8</td>\n",
       "    </tr>\n",
       "  </tbody>\n",
       "</table>\n",
       "</div>"
      ],
      "text/plain": [
       "                  Date Workout Name                  Exercise Name  Set Order  \\\n",
       "0  2015-10-23 17:06:37        Chest  Incline Bench Press (Barbell)          1   \n",
       "1  2015-10-23 17:06:37        Chest  Incline Bench Press (Barbell)          2   \n",
       "2  2015-10-23 17:06:37        Chest  Incline Bench Press (Barbell)          3   \n",
       "3  2015-10-23 17:06:37        Chest  Incline Bench Press (Barbell)          4   \n",
       "4  2015-10-23 17:06:37        Chest  Incline Bench Press (Barbell)          5   \n",
       "\n",
       "   Weight  Reps  \n",
       "0   135.0     8  \n",
       "1   135.0     8  \n",
       "2   135.0     5  \n",
       "3   185.0     7  \n",
       "4   230.0     8  "
      ]
     },
     "execution_count": 257,
     "metadata": {},
     "output_type": "execute_result"
    }
   ],
   "source": [
    "df = df.drop(['Distance','Seconds', 'Notes', 'Workout Notes'], axis = 1)\n",
    "df.head()"
   ]
  },
  {
   "cell_type": "code",
   "execution_count": 258,
   "metadata": {},
   "outputs": [],
   "source": [
    "df['Date'] = pd.to_datetime(df['Date'], format = '%Y-%m-%d %H:%M:%S')"
   ]
  },
  {
   "cell_type": "code",
   "execution_count": 259,
   "metadata": {},
   "outputs": [
    {
     "name": "stdout",
     "output_type": "stream",
     "text": [
      "<class 'pandas.core.frame.DataFrame'>\n",
      "RangeIndex: 9932 entries, 0 to 9931\n",
      "Data columns (total 6 columns):\n",
      " #   Column         Non-Null Count  Dtype         \n",
      "---  ------         --------------  -----         \n",
      " 0   Date           9932 non-null   datetime64[ns]\n",
      " 1   Workout Name   9932 non-null   object        \n",
      " 2   Exercise Name  9932 non-null   object        \n",
      " 3   Set Order      9932 non-null   int64         \n",
      " 4   Weight         9932 non-null   float64       \n",
      " 5   Reps           9932 non-null   int64         \n",
      "dtypes: datetime64[ns](1), float64(1), int64(2), object(2)\n",
      "memory usage: 465.7+ KB\n"
     ]
    }
   ],
   "source": [
    "df.info()"
   ]
  },
  {
   "cell_type": "code",
   "execution_count": 260,
   "metadata": {},
   "outputs": [
    {
     "data": {
      "text/html": [
       "<div>\n",
       "<style scoped>\n",
       "    .dataframe tbody tr th:only-of-type {\n",
       "        vertical-align: middle;\n",
       "    }\n",
       "\n",
       "    .dataframe tbody tr th {\n",
       "        vertical-align: top;\n",
       "    }\n",
       "\n",
       "    .dataframe thead th {\n",
       "        text-align: right;\n",
       "    }\n",
       "</style>\n",
       "<table border=\"1\" class=\"dataframe\">\n",
       "  <thead>\n",
       "    <tr style=\"text-align: right;\">\n",
       "      <th></th>\n",
       "      <th>Date</th>\n",
       "      <th>Workout Name</th>\n",
       "      <th>Exercise Name</th>\n",
       "      <th>Set Order</th>\n",
       "      <th>Weight</th>\n",
       "      <th>Reps</th>\n",
       "      <th>Weekday</th>\n",
       "    </tr>\n",
       "  </thead>\n",
       "  <tbody>\n",
       "    <tr>\n",
       "      <th>0</th>\n",
       "      <td>2015-10-23 17:06:37</td>\n",
       "      <td>Chest</td>\n",
       "      <td>Incline Bench Press (Barbell)</td>\n",
       "      <td>1</td>\n",
       "      <td>135.0</td>\n",
       "      <td>8</td>\n",
       "      <td>4</td>\n",
       "    </tr>\n",
       "    <tr>\n",
       "      <th>1</th>\n",
       "      <td>2015-10-23 17:06:37</td>\n",
       "      <td>Chest</td>\n",
       "      <td>Incline Bench Press (Barbell)</td>\n",
       "      <td>2</td>\n",
       "      <td>135.0</td>\n",
       "      <td>8</td>\n",
       "      <td>4</td>\n",
       "    </tr>\n",
       "    <tr>\n",
       "      <th>2</th>\n",
       "      <td>2015-10-23 17:06:37</td>\n",
       "      <td>Chest</td>\n",
       "      <td>Incline Bench Press (Barbell)</td>\n",
       "      <td>3</td>\n",
       "      <td>135.0</td>\n",
       "      <td>5</td>\n",
       "      <td>4</td>\n",
       "    </tr>\n",
       "    <tr>\n",
       "      <th>3</th>\n",
       "      <td>2015-10-23 17:06:37</td>\n",
       "      <td>Chest</td>\n",
       "      <td>Incline Bench Press (Barbell)</td>\n",
       "      <td>4</td>\n",
       "      <td>185.0</td>\n",
       "      <td>7</td>\n",
       "      <td>4</td>\n",
       "    </tr>\n",
       "    <tr>\n",
       "      <th>4</th>\n",
       "      <td>2015-10-23 17:06:37</td>\n",
       "      <td>Chest</td>\n",
       "      <td>Incline Bench Press (Barbell)</td>\n",
       "      <td>5</td>\n",
       "      <td>230.0</td>\n",
       "      <td>8</td>\n",
       "      <td>4</td>\n",
       "    </tr>\n",
       "  </tbody>\n",
       "</table>\n",
       "</div>"
      ],
      "text/plain": [
       "                 Date Workout Name                  Exercise Name  Set Order  \\\n",
       "0 2015-10-23 17:06:37        Chest  Incline Bench Press (Barbell)          1   \n",
       "1 2015-10-23 17:06:37        Chest  Incline Bench Press (Barbell)          2   \n",
       "2 2015-10-23 17:06:37        Chest  Incline Bench Press (Barbell)          3   \n",
       "3 2015-10-23 17:06:37        Chest  Incline Bench Press (Barbell)          4   \n",
       "4 2015-10-23 17:06:37        Chest  Incline Bench Press (Barbell)          5   \n",
       "\n",
       "   Weight  Reps Weekday  \n",
       "0   135.0     8       4  \n",
       "1   135.0     8       4  \n",
       "2   135.0     5       4  \n",
       "3   185.0     7       4  \n",
       "4   230.0     8       4  "
      ]
     },
     "execution_count": 260,
     "metadata": {},
     "output_type": "execute_result"
    }
   ],
   "source": [
    "df['Weekday'] = df['Date'].apply(datetime.datetime.weekday)\n",
    "df['Weekday'] = df['Weekday'].astype('str')\n",
    "df.head()"
   ]
  },
  {
   "cell_type": "code",
   "execution_count": 261,
   "metadata": {},
   "outputs": [],
   "source": [
    "weekday_dict = {'0':'Monday', '1': 'Tuesday', '2':'Wednesday', '3':'Thursday', '4':'Friday', '5':'Saturday', '6':'Sunday'}\n",
    "df['Weekday'] = df['Weekday'].replace(weekday_dict)"
   ]
  },
  {
   "cell_type": "code",
   "execution_count": 262,
   "metadata": {},
   "outputs": [],
   "source": [
    "df['Time'] = df['Date'].apply(datetime.datetime.time)"
   ]
  },
  {
   "cell_type": "code",
   "execution_count": 263,
   "metadata": {},
   "outputs": [
    {
     "data": {
      "text/html": [
       "<div>\n",
       "<style scoped>\n",
       "    .dataframe tbody tr th:only-of-type {\n",
       "        vertical-align: middle;\n",
       "    }\n",
       "\n",
       "    .dataframe tbody tr th {\n",
       "        vertical-align: top;\n",
       "    }\n",
       "\n",
       "    .dataframe thead th {\n",
       "        text-align: right;\n",
       "    }\n",
       "</style>\n",
       "<table border=\"1\" class=\"dataframe\">\n",
       "  <thead>\n",
       "    <tr style=\"text-align: right;\">\n",
       "      <th></th>\n",
       "      <th>Date</th>\n",
       "      <th>Workout Name</th>\n",
       "      <th>Exercise Name</th>\n",
       "      <th>Set Order</th>\n",
       "      <th>Weight</th>\n",
       "      <th>Reps</th>\n",
       "      <th>Weekday</th>\n",
       "      <th>Time</th>\n",
       "    </tr>\n",
       "  </thead>\n",
       "  <tbody>\n",
       "    <tr>\n",
       "      <th>0</th>\n",
       "      <td>2015-10-23 17:06:37</td>\n",
       "      <td>Chest</td>\n",
       "      <td>Incline Bench Press (Barbell)</td>\n",
       "      <td>1</td>\n",
       "      <td>135.0</td>\n",
       "      <td>8</td>\n",
       "      <td>Friday</td>\n",
       "      <td>17:06:37</td>\n",
       "    </tr>\n",
       "    <tr>\n",
       "      <th>1</th>\n",
       "      <td>2015-10-23 17:06:37</td>\n",
       "      <td>Chest</td>\n",
       "      <td>Incline Bench Press (Barbell)</td>\n",
       "      <td>2</td>\n",
       "      <td>135.0</td>\n",
       "      <td>8</td>\n",
       "      <td>Friday</td>\n",
       "      <td>17:06:37</td>\n",
       "    </tr>\n",
       "    <tr>\n",
       "      <th>2</th>\n",
       "      <td>2015-10-23 17:06:37</td>\n",
       "      <td>Chest</td>\n",
       "      <td>Incline Bench Press (Barbell)</td>\n",
       "      <td>3</td>\n",
       "      <td>135.0</td>\n",
       "      <td>5</td>\n",
       "      <td>Friday</td>\n",
       "      <td>17:06:37</td>\n",
       "    </tr>\n",
       "    <tr>\n",
       "      <th>3</th>\n",
       "      <td>2015-10-23 17:06:37</td>\n",
       "      <td>Chest</td>\n",
       "      <td>Incline Bench Press (Barbell)</td>\n",
       "      <td>4</td>\n",
       "      <td>185.0</td>\n",
       "      <td>7</td>\n",
       "      <td>Friday</td>\n",
       "      <td>17:06:37</td>\n",
       "    </tr>\n",
       "    <tr>\n",
       "      <th>4</th>\n",
       "      <td>2015-10-23 17:06:37</td>\n",
       "      <td>Chest</td>\n",
       "      <td>Incline Bench Press (Barbell)</td>\n",
       "      <td>5</td>\n",
       "      <td>230.0</td>\n",
       "      <td>8</td>\n",
       "      <td>Friday</td>\n",
       "      <td>17:06:37</td>\n",
       "    </tr>\n",
       "  </tbody>\n",
       "</table>\n",
       "</div>"
      ],
      "text/plain": [
       "                 Date Workout Name                  Exercise Name  Set Order  \\\n",
       "0 2015-10-23 17:06:37        Chest  Incline Bench Press (Barbell)          1   \n",
       "1 2015-10-23 17:06:37        Chest  Incline Bench Press (Barbell)          2   \n",
       "2 2015-10-23 17:06:37        Chest  Incline Bench Press (Barbell)          3   \n",
       "3 2015-10-23 17:06:37        Chest  Incline Bench Press (Barbell)          4   \n",
       "4 2015-10-23 17:06:37        Chest  Incline Bench Press (Barbell)          5   \n",
       "\n",
       "   Weight  Reps Weekday      Time  \n",
       "0   135.0     8  Friday  17:06:37  \n",
       "1   135.0     8  Friday  17:06:37  \n",
       "2   135.0     5  Friday  17:06:37  \n",
       "3   185.0     7  Friday  17:06:37  \n",
       "4   230.0     8  Friday  17:06:37  "
      ]
     },
     "execution_count": 263,
     "metadata": {},
     "output_type": "execute_result"
    }
   ],
   "source": [
    "df.head()"
   ]
  },
  {
   "cell_type": "code",
   "execution_count": 264,
   "metadata": {},
   "outputs": [
    {
     "data": {
      "image/png": "[encoded data removed]",
      "text/plain": [
       "<Figure size 432x288 with 1 Axes>"
      ]
     },
     "metadata": {
      "needs_background": "light"
     },
     "output_type": "display_data"
    }
   ],
   "source": [
    "def chart(occurance_list):\n",
    "    hour_list = [t.hour for t in occurance_list]\n",
    "    numbers=[x for x in range(0,24)]\n",
    "    labels=map(lambda x: str(x), numbers)\n",
    "    plt.xticks(numbers, labels)\n",
    "    plt.xlim(0,24)\n",
    "    plt.hist(hour_list)\n",
    "    plt.show()\n",
    "    \n",
    "chart(df.Time)"
   ]
  },
  {
   "cell_type": "code",
   "execution_count": 265,
   "metadata": {},
   "outputs": [],
   "source": [
    "df['Time_Period'] = df['Date'].apply(lambda x: 'morning' if x.hour < 11 else ('afternoon' if x.hour < 17 else 'night'))"
   ]
  },
  {
   "cell_type": "code",
   "execution_count": 266,
   "metadata": {},
   "outputs": [
    {
     "data": {
      "text/plain": [
       "17"
      ]
     },
     "execution_count": 266,
     "metadata": {},
     "output_type": "execute_result"
    }
   ],
   "source": [
    "df['Date'][1].hour"
   ]
  },
  {
   "cell_type": "code",
   "execution_count": 267,
   "metadata": {},
   "outputs": [
    {
     "data": {
      "text/plain": [
       "Date             datetime64[ns]\n",
       "Workout Name             object\n",
       "Exercise Name            object\n",
       "Set Order                 int64\n",
       "Weight                  float64\n",
       "Reps                      int64\n",
       "Weekday                  object\n",
       "Time                     object\n",
       "Time_Period              object\n",
       "dtype: object"
      ]
     },
     "execution_count": 267,
     "metadata": {},
     "output_type": "execute_result"
    }
   ],
   "source": [
    "df.dtypes"
   ]
  },
  {
   "cell_type": "code",
   "execution_count": 268,
   "metadata": {},
   "outputs": [
    {
     "data": {
      "text/html": [
       "<div>\n",
       "<style scoped>\n",
       "    .dataframe tbody tr th:only-of-type {\n",
       "        vertical-align: middle;\n",
       "    }\n",
       "\n",
       "    .dataframe tbody tr th {\n",
       "        vertical-align: top;\n",
       "    }\n",
       "\n",
       "    .dataframe thead th {\n",
       "        text-align: right;\n",
       "    }\n",
       "</style>\n",
       "<table border=\"1\" class=\"dataframe\">\n",
       "  <thead>\n",
       "    <tr style=\"text-align: right;\">\n",
       "      <th></th>\n",
       "      <th>Date</th>\n",
       "      <th>Workout Name</th>\n",
       "      <th>Exercise Name</th>\n",
       "      <th>Set Order</th>\n",
       "      <th>Weight</th>\n",
       "      <th>Reps</th>\n",
       "      <th>Weekday</th>\n",
       "      <th>Time</th>\n",
       "      <th>Time_Period</th>\n",
       "    </tr>\n",
       "  </thead>\n",
       "  <tbody>\n",
       "    <tr>\n",
       "      <th>0</th>\n",
       "      <td>2015-10-23 17:06:37</td>\n",
       "      <td>Chest</td>\n",
       "      <td>Incline Bench Press (Barbell)</td>\n",
       "      <td>1</td>\n",
       "      <td>135.0</td>\n",
       "      <td>8</td>\n",
       "      <td>Friday</td>\n",
       "      <td>17:06:37</td>\n",
       "      <td>night</td>\n",
       "    </tr>\n",
       "    <tr>\n",
       "      <th>1</th>\n",
       "      <td>2015-10-23 17:06:37</td>\n",
       "      <td>Chest</td>\n",
       "      <td>Incline Bench Press (Barbell)</td>\n",
       "      <td>2</td>\n",
       "      <td>135.0</td>\n",
       "      <td>8</td>\n",
       "      <td>Friday</td>\n",
       "      <td>17:06:37</td>\n",
       "      <td>night</td>\n",
       "    </tr>\n",
       "    <tr>\n",
       "      <th>2</th>\n",
       "      <td>2015-10-23 17:06:37</td>\n",
       "      <td>Chest</td>\n",
       "      <td>Incline Bench Press (Barbell)</td>\n",
       "      <td>3</td>\n",
       "      <td>135.0</td>\n",
       "      <td>5</td>\n",
       "      <td>Friday</td>\n",
       "      <td>17:06:37</td>\n",
       "      <td>night</td>\n",
       "    </tr>\n",
       "    <tr>\n",
       "      <th>3</th>\n",
       "      <td>2015-10-23 17:06:37</td>\n",
       "      <td>Chest</td>\n",
       "      <td>Incline Bench Press (Barbell)</td>\n",
       "      <td>4</td>\n",
       "      <td>185.0</td>\n",
       "      <td>7</td>\n",
       "      <td>Friday</td>\n",
       "      <td>17:06:37</td>\n",
       "      <td>night</td>\n",
       "    </tr>\n",
       "    <tr>\n",
       "      <th>4</th>\n",
       "      <td>2015-10-23 17:06:37</td>\n",
       "      <td>Chest</td>\n",
       "      <td>Incline Bench Press (Barbell)</td>\n",
       "      <td>5</td>\n",
       "      <td>230.0</td>\n",
       "      <td>8</td>\n",
       "      <td>Friday</td>\n",
       "      <td>17:06:37</td>\n",
       "      <td>night</td>\n",
       "    </tr>\n",
       "  </tbody>\n",
       "</table>\n",
       "</div>"
      ],
      "text/plain": [
       "                 Date Workout Name                  Exercise Name  Set Order  \\\n",
       "0 2015-10-23 17:06:37        Chest  Incline Bench Press (Barbell)          1   \n",
       "1 2015-10-23 17:06:37        Chest  Incline Bench Press (Barbell)          2   \n",
       "2 2015-10-23 17:06:37        Chest  Incline Bench Press (Barbell)          3   \n",
       "3 2015-10-23 17:06:37        Chest  Incline Bench Press (Barbell)          4   \n",
       "4 2015-10-23 17:06:37        Chest  Incline Bench Press (Barbell)          5   \n",
       "\n",
       "   Weight  Reps Weekday      Time Time_Period  \n",
       "0   135.0     8  Friday  17:06:37       night  \n",
       "1   135.0     8  Friday  17:06:37       night  \n",
       "2   135.0     5  Friday  17:06:37       night  \n",
       "3   185.0     7  Friday  17:06:37       night  \n",
       "4   230.0     8  Friday  17:06:37       night  "
      ]
     },
     "execution_count": 268,
     "metadata": {},
     "output_type": "execute_result"
    }
   ],
   "source": [
    "df.head()"
   ]
  },
  {
   "cell_type": "code",
   "execution_count": 269,
   "metadata": {},
   "outputs": [],
   "source": [
    "# look into clustering workouts into categories and find the strength improvement for each exercise over time\n",
    "# how does the time of day effect the effort put into the workouts (more energy before work = better workout?)\n",
    "# are earlier sets able to drive a higher RPE\n",
    "# which exercises does this individual push themselves the hardest on and improve on the most over the time\n",
    "# what rep range is the best for strength improvement\n",
    "# group the workouts by workout name or exercise"
   ]
  },
  {
   "cell_type": "code",
   "execution_count": 270,
   "metadata": {},
   "outputs": [
    {
     "data": {
      "text/plain": [
       "Squat (Barbell)                     1437\n",
       "Chin Up                             1217\n",
       "Incline Bench Press (Barbell)        779\n",
       "Seated Shoulder  Press (Barbell)     660\n",
       "Weighted dips                        627\n",
       "Hammer seated row (CLOSE GRIP)       347\n",
       "Bench Press (Barbell)                320\n",
       "Leg press (hinge )                   289\n",
       "Rear delt fly                        285\n",
       "Squat                                265\n",
       "Bicep Curl (Barbell)                 247\n",
       "Seated Cable Row (close Grip)        227\n",
       "Incline Bench Press                  198\n",
       "Romanian Deadlift (Barbell)          190\n",
       "Lateral Raise (Dumbbells)            186\n",
       "T-bar Row                            161\n",
       "Deadlift (Barbell)                   156\n",
       "Incline Press (Dumbbell)             152\n",
       "Leg outward fly                      137\n",
       "Bent Over Row (Dumbbell)             135\n",
       "Name: Exercise Name, dtype: int64"
      ]
     },
     "execution_count": 270,
     "metadata": {},
     "output_type": "execute_result"
    }
   ],
   "source": [
    "# lets focus mainly on the strength progression of the compound movements (deadlift, squats, chinups, incline bench, shoulder press, dips)\n",
    "df['Exercise Name'].value_counts().head(20)"
   ]
  },
  {
   "cell_type": "code",
   "execution_count": 271,
   "metadata": {},
   "outputs": [
    {
     "data": {
      "text/plain": [
       "Back                                      2034\n",
       "Squat 1                                   1435\n",
       "Chest                                     1219\n",
       "Shoulder Day                               890\n",
       "1 - Heavy Squats                           452\n",
       "2 - Back Heavy Chins                       379\n",
       "2 - Shoulders                              313\n",
       "Legs - Heavy                               294\n",
       "Push - Shoulders / Bench                   289\n",
       "Back - Light Chins, 8-10 Reps              280\n",
       "1 Incline Day                              272\n",
       "Legs - 5x5 / Volume                        268\n",
       "Push - Incline                             253\n",
       "Back - Pyramid.  5max, Decrease 5 Sets     244\n",
       "Pulls                                      113\n",
       "Back Heavier Chins                          62\n",
       "2 Legs-high Reps                            51\n",
       "Back - Chins.  5x6                          41\n",
       "1 Heavy   Rows                              30\n",
       "Legs - Heavy #34                            28\n",
       "Name: Workout Name, dtype: int64"
      ]
     },
     "execution_count": 271,
     "metadata": {},
     "output_type": "execute_result"
    }
   ],
   "source": [
    "df['Workout Name'].value_counts().head(20)"
   ]
  },
  {
   "cell_type": "code",
   "execution_count": 272,
   "metadata": {},
   "outputs": [],
   "source": [
    "def consolidate_workout_name(name):\n",
    "    if any(ele in name for ele in ['Back', 'Pull', 'Rows']):\n",
    "        return 'Pull'\n",
    "    elif any(ele in name for ele in ['Legs', 'Squat']):\n",
    "        return 'Legs'\n",
    "    elif any(ele in name for ele in ['Chest', 'Shoulder', 'Push', 'Bench', 'Press', 'Incline']):\n",
    "        return 'Push'\n",
    "    else:\n",
    "        return 'None of the above'\n",
    "    \n",
    "df['Workout Name']= df['Workout Name'].apply(consolidate_workout_name)\n",
    "    "
   ]
  },
  {
   "cell_type": "code",
   "execution_count": 273,
   "metadata": {},
   "outputs": [
    {
     "data": {
      "text/html": [
       "<div>\n",
       "<style scoped>\n",
       "    .dataframe tbody tr th:only-of-type {\n",
       "        vertical-align: middle;\n",
       "    }\n",
       "\n",
       "    .dataframe tbody tr th {\n",
       "        vertical-align: top;\n",
       "    }\n",
       "\n",
       "    .dataframe thead th {\n",
       "        text-align: right;\n",
       "    }\n",
       "</style>\n",
       "<table border=\"1\" class=\"dataframe\">\n",
       "  <thead>\n",
       "    <tr style=\"text-align: right;\">\n",
       "      <th></th>\n",
       "      <th>Date</th>\n",
       "      <th>Workout Name</th>\n",
       "      <th>Exercise Name</th>\n",
       "      <th>Set Order</th>\n",
       "      <th>Weight</th>\n",
       "      <th>Reps</th>\n",
       "      <th>Weekday</th>\n",
       "      <th>Time</th>\n",
       "      <th>Time_Period</th>\n",
       "    </tr>\n",
       "  </thead>\n",
       "  <tbody>\n",
       "    <tr>\n",
       "      <th>0</th>\n",
       "      <td>2015-10-23 17:06:37</td>\n",
       "      <td>Push</td>\n",
       "      <td>Incline Bench Press (Barbell)</td>\n",
       "      <td>1</td>\n",
       "      <td>135.0</td>\n",
       "      <td>8</td>\n",
       "      <td>Friday</td>\n",
       "      <td>17:06:37</td>\n",
       "      <td>night</td>\n",
       "    </tr>\n",
       "    <tr>\n",
       "      <th>1</th>\n",
       "      <td>2015-10-23 17:06:37</td>\n",
       "      <td>Push</td>\n",
       "      <td>Incline Bench Press (Barbell)</td>\n",
       "      <td>2</td>\n",
       "      <td>135.0</td>\n",
       "      <td>8</td>\n",
       "      <td>Friday</td>\n",
       "      <td>17:06:37</td>\n",
       "      <td>night</td>\n",
       "    </tr>\n",
       "    <tr>\n",
       "      <th>2</th>\n",
       "      <td>2015-10-23 17:06:37</td>\n",
       "      <td>Push</td>\n",
       "      <td>Incline Bench Press (Barbell)</td>\n",
       "      <td>3</td>\n",
       "      <td>135.0</td>\n",
       "      <td>5</td>\n",
       "      <td>Friday</td>\n",
       "      <td>17:06:37</td>\n",
       "      <td>night</td>\n",
       "    </tr>\n",
       "    <tr>\n",
       "      <th>3</th>\n",
       "      <td>2015-10-23 17:06:37</td>\n",
       "      <td>Push</td>\n",
       "      <td>Incline Bench Press (Barbell)</td>\n",
       "      <td>4</td>\n",
       "      <td>185.0</td>\n",
       "      <td>7</td>\n",
       "      <td>Friday</td>\n",
       "      <td>17:06:37</td>\n",
       "      <td>night</td>\n",
       "    </tr>\n",
       "    <tr>\n",
       "      <th>4</th>\n",
       "      <td>2015-10-23 17:06:37</td>\n",
       "      <td>Push</td>\n",
       "      <td>Incline Bench Press (Barbell)</td>\n",
       "      <td>5</td>\n",
       "      <td>230.0</td>\n",
       "      <td>8</td>\n",
       "      <td>Friday</td>\n",
       "      <td>17:06:37</td>\n",
       "      <td>night</td>\n",
       "    </tr>\n",
       "  </tbody>\n",
       "</table>\n",
       "</div>"
      ],
      "text/plain": [
       "                 Date Workout Name                  Exercise Name  Set Order  \\\n",
       "0 2015-10-23 17:06:37         Push  Incline Bench Press (Barbell)          1   \n",
       "1 2015-10-23 17:06:37         Push  Incline Bench Press (Barbell)          2   \n",
       "2 2015-10-23 17:06:37         Push  Incline Bench Press (Barbell)          3   \n",
       "3 2015-10-23 17:06:37         Push  Incline Bench Press (Barbell)          4   \n",
       "4 2015-10-23 17:06:37         Push  Incline Bench Press (Barbell)          5   \n",
       "\n",
       "   Weight  Reps Weekday      Time Time_Period  \n",
       "0   135.0     8  Friday  17:06:37       night  \n",
       "1   135.0     8  Friday  17:06:37       night  \n",
       "2   135.0     5  Friday  17:06:37       night  \n",
       "3   185.0     7  Friday  17:06:37       night  \n",
       "4   230.0     8  Friday  17:06:37       night  "
      ]
     },
     "execution_count": 273,
     "metadata": {},
     "output_type": "execute_result"
    }
   ],
   "source": [
    "df.head()"
   ]
  },
  {
   "cell_type": "code",
   "execution_count": 274,
   "metadata": {},
   "outputs": [],
   "source": [
    "df = df.rename(columns = {'Workout Name':'Workout_Name', 'Exercise Name': 'Exercise_Name', 'Set Order': 'Set_Order'})"
   ]
  },
  {
   "cell_type": "code",
   "execution_count": 279,
   "metadata": {},
   "outputs": [
    {
     "data": {
      "text/html": [
       "<div>\n",
       "<style scoped>\n",
       "    .dataframe tbody tr th:only-of-type {\n",
       "        vertical-align: middle;\n",
       "    }\n",
       "\n",
       "    .dataframe tbody tr th {\n",
       "        vertical-align: top;\n",
       "    }\n",
       "\n",
       "    .dataframe thead th {\n",
       "        text-align: right;\n",
       "    }\n",
       "</style>\n",
       "<table border=\"1\" class=\"dataframe\">\n",
       "  <thead>\n",
       "    <tr style=\"text-align: right;\">\n",
       "      <th></th>\n",
       "      <th>Workout_Name</th>\n",
       "      <th>night_workouts</th>\n",
       "      <th>afternoon_workouts</th>\n",
       "      <th>morning_workouts</th>\n",
       "    </tr>\n",
       "  </thead>\n",
       "  <tbody>\n",
       "    <tr>\n",
       "      <th>0</th>\n",
       "      <td>Legs</td>\n",
       "      <td>1784</td>\n",
       "      <td>814</td>\n",
       "      <td>228</td>\n",
       "    </tr>\n",
       "    <tr>\n",
       "      <th>1</th>\n",
       "      <td>Pull</td>\n",
       "      <td>2122</td>\n",
       "      <td>1150</td>\n",
       "      <td>292</td>\n",
       "    </tr>\n",
       "    <tr>\n",
       "      <th>2</th>\n",
       "      <td>Push</td>\n",
       "      <td>1847</td>\n",
       "      <td>1305</td>\n",
       "      <td>390</td>\n",
       "    </tr>\n",
       "  </tbody>\n",
       "</table>\n",
       "</div>"
      ],
      "text/plain": [
       "  Workout_Name  night_workouts  afternoon_workouts  morning_workouts\n",
       "0         Legs            1784                 814               228\n",
       "1         Pull            2122                1150               292\n",
       "2         Push            1847                1305               390"
      ]
     },
     "execution_count": 279,
     "metadata": {},
     "output_type": "execute_result"
    }
   ],
   "source": [
    "time_of_day_workouts = sqldf(\"select Workout_Name, count(case when Time_Period = 'night' then 1 else NULL end) as night_workouts, count(case when Time_Period = 'afternoon' then 1 else NULL end) as afternoon_workouts, count(case when Time_Period = 'morning' then 1 else NULL end) as morning_workouts from df group by 1\")\n",
    "time_of_day_workouts"
   ]
  },
  {
   "cell_type": "code",
   "execution_count": 291,
   "metadata": {},
   "outputs": [
    {
     "data": {
      "image/png": "[encoded data removed]",
      "text/plain": [
       "<Figure size 432x288 with 1 Axes>"
      ]
     },
     "metadata": {
      "needs_background": "light"
     },
     "output_type": "display_data"
    }
   ],
   "source": [
    "labels = ['Legs', 'Push', 'Pull']\n",
    "night_workouts = time_of_day_workouts.night_workouts\n",
    "afternoon_workouts = time_of_day_workouts.afternoon_workouts\n",
    "morning_workouts = time_of_day_workouts.morning_workouts\n",
    "width = 0.35       # the width of the bars: can also be len(x) sequence\n",
    "\n",
    "fig, ax = plt.subplots()\n",
    "\n",
    "ax.bar(labels, morning_workouts, width, label='Morning')\n",
    "ax.bar(labels, afternoon_workouts, width, bottom=morning_workouts,\n",
    "       label='Afternoon')\n",
    "ax.bar(labels, night_workouts, width, bottom = afternoon_workouts, label = 'Night')\n",
    "\n",
    "ax.set_ylabel('Number of Workouts')\n",
    "ax.set_title('Time of Day of Different Workouts')\n",
    "ax.legend(loc = 'center left', bbox_to_anchor=(1, 0.5))\n",
    "\n",
    "plt.show()"
   ]
  },
  {
   "cell_type": "code",
   "execution_count": 292,
   "metadata": {},
   "outputs": [],
   "source": [
    "time_of_day_workouts['pct_morning'] = time_of_day_workouts['morning_workouts']/(time_of_day_workouts['morning_workouts']+time_of_day_workouts['afternoon_workouts']+ time_of_day_workouts['night_workouts'])\n",
    "time_of_day_workouts['pct_afternoon'] = time_of_day_workouts['afternoon_workouts']/(time_of_day_workouts['morning_workouts']+time_of_day_workouts['afternoon_workouts']+ time_of_day_workouts['night_workouts'])\n",
    "time_of_day_workouts['pct_night'] = time_of_day_workouts['night_workouts']/(time_of_day_workouts['morning_workouts']+time_of_day_workouts['afternoon_workouts']+ time_of_day_workouts['night_workouts'])\n"
   ]
  },
  {
   "cell_type": "code",
   "execution_count": 293,
   "metadata": {},
   "outputs": [
    {
     "data": {
      "text/html": [
       "<div>\n",
       "<style scoped>\n",
       "    .dataframe tbody tr th:only-of-type {\n",
       "        vertical-align: middle;\n",
       "    }\n",
       "\n",
       "    .dataframe tbody tr th {\n",
       "        vertical-align: top;\n",
       "    }\n",
       "\n",
       "    .dataframe thead th {\n",
       "        text-align: right;\n",
       "    }\n",
       "</style>\n",
       "<table border=\"1\" class=\"dataframe\">\n",
       "  <thead>\n",
       "    <tr style=\"text-align: right;\">\n",
       "      <th></th>\n",
       "      <th>Workout_Name</th>\n",
       "      <th>night_workouts</th>\n",
       "      <th>afternoon_workouts</th>\n",
       "      <th>morning_workouts</th>\n",
       "      <th>pct_morning</th>\n",
       "      <th>pct_afternoon</th>\n",
       "      <th>pct_night</th>\n",
       "    </tr>\n",
       "  </thead>\n",
       "  <tbody>\n",
       "    <tr>\n",
       "      <th>0</th>\n",
       "      <td>Legs</td>\n",
       "      <td>1784</td>\n",
       "      <td>814</td>\n",
       "      <td>228</td>\n",
       "      <td>0.080679</td>\n",
       "      <td>0.288040</td>\n",
       "      <td>0.631281</td>\n",
       "    </tr>\n",
       "    <tr>\n",
       "      <th>1</th>\n",
       "      <td>Pull</td>\n",
       "      <td>2122</td>\n",
       "      <td>1150</td>\n",
       "      <td>292</td>\n",
       "      <td>0.081930</td>\n",
       "      <td>0.322671</td>\n",
       "      <td>0.595398</td>\n",
       "    </tr>\n",
       "    <tr>\n",
       "      <th>2</th>\n",
       "      <td>Push</td>\n",
       "      <td>1847</td>\n",
       "      <td>1305</td>\n",
       "      <td>390</td>\n",
       "      <td>0.110107</td>\n",
       "      <td>0.368436</td>\n",
       "      <td>0.521457</td>\n",
       "    </tr>\n",
       "  </tbody>\n",
       "</table>\n",
       "</div>"
      ],
      "text/plain": [
       "  Workout_Name  night_workouts  afternoon_workouts  morning_workouts  \\\n",
       "0         Legs            1784                 814               228   \n",
       "1         Pull            2122                1150               292   \n",
       "2         Push            1847                1305               390   \n",
       "\n",
       "   pct_morning  pct_afternoon  pct_night  \n",
       "0     0.080679       0.288040   0.631281  \n",
       "1     0.081930       0.322671   0.595398  \n",
       "2     0.110107       0.368436   0.521457  "
      ]
     },
     "execution_count": 293,
     "metadata": {},
     "output_type": "execute_result"
    }
   ],
   "source": [
    "time_of_day_workouts"
   ]
  },
  {
   "cell_type": "markdown",
   "metadata": {},
   "source": [
    "It looks like a higher percentage of the leg workouts were done at night instead of in the morning or in the afternoon compared to push and pull workouts. I can say that from my training, I would also try to avoid hitting legs in the morning because it can be very taxing and is difficult to initiate if you are tired."
   ]
  },
  {
   "cell_type": "markdown",
   "metadata": {},
   "source": [
    "## Tracking Strength"
   ]
  },
  {
   "cell_type": "markdown",
   "metadata": {},
   "source": [
    "I will be using the Brzycki Formula to calculate the 1 rep max of each exercise performed based on the weight lifted and the number of reps. The formula is:\n",
    "\n",
    "1 rep max weight = weight lifted / (1.0278 - 0.0278 * repititions)"
   ]
  },
  {
   "cell_type": "code",
   "execution_count": 294,
   "metadata": {},
   "outputs": [
    {
     "data": {
      "text/html": [
       "<div>\n",
       "<style scoped>\n",
       "    .dataframe tbody tr th:only-of-type {\n",
       "        vertical-align: middle;\n",
       "    }\n",
       "\n",
       "    .dataframe tbody tr th {\n",
       "        vertical-align: top;\n",
       "    }\n",
       "\n",
       "    .dataframe thead th {\n",
       "        text-align: right;\n",
       "    }\n",
       "</style>\n",
       "<table border=\"1\" class=\"dataframe\">\n",
       "  <thead>\n",
       "    <tr style=\"text-align: right;\">\n",
       "      <th></th>\n",
       "      <th>Date</th>\n",
       "      <th>Workout_Name</th>\n",
       "      <th>Exercise_Name</th>\n",
       "      <th>Set_Order</th>\n",
       "      <th>Weight</th>\n",
       "      <th>Reps</th>\n",
       "      <th>Weekday</th>\n",
       "      <th>Time</th>\n",
       "      <th>Time_Period</th>\n",
       "      <th>Strength_Baseline</th>\n",
       "    </tr>\n",
       "  </thead>\n",
       "  <tbody>\n",
       "    <tr>\n",
       "      <th>0</th>\n",
       "      <td>2015-10-23 17:06:37</td>\n",
       "      <td>Push</td>\n",
       "      <td>Incline Bench Press (Barbell)</td>\n",
       "      <td>1</td>\n",
       "      <td>135.0</td>\n",
       "      <td>8</td>\n",
       "      <td>Friday</td>\n",
       "      <td>17:06:37</td>\n",
       "      <td>night</td>\n",
       "      <td>167.618575</td>\n",
       "    </tr>\n",
       "    <tr>\n",
       "      <th>1</th>\n",
       "      <td>2015-10-23 17:06:37</td>\n",
       "      <td>Push</td>\n",
       "      <td>Incline Bench Press (Barbell)</td>\n",
       "      <td>2</td>\n",
       "      <td>135.0</td>\n",
       "      <td>8</td>\n",
       "      <td>Friday</td>\n",
       "      <td>17:06:37</td>\n",
       "      <td>night</td>\n",
       "      <td>167.618575</td>\n",
       "    </tr>\n",
       "    <tr>\n",
       "      <th>2</th>\n",
       "      <td>2015-10-23 17:06:37</td>\n",
       "      <td>Push</td>\n",
       "      <td>Incline Bench Press (Barbell)</td>\n",
       "      <td>3</td>\n",
       "      <td>135.0</td>\n",
       "      <td>5</td>\n",
       "      <td>Friday</td>\n",
       "      <td>17:06:37</td>\n",
       "      <td>night</td>\n",
       "      <td>151.890189</td>\n",
       "    </tr>\n",
       "    <tr>\n",
       "      <th>3</th>\n",
       "      <td>2015-10-23 17:06:37</td>\n",
       "      <td>Push</td>\n",
       "      <td>Incline Bench Press (Barbell)</td>\n",
       "      <td>4</td>\n",
       "      <td>185.0</td>\n",
       "      <td>7</td>\n",
       "      <td>Friday</td>\n",
       "      <td>17:06:37</td>\n",
       "      <td>night</td>\n",
       "      <td>222.035526</td>\n",
       "    </tr>\n",
       "    <tr>\n",
       "      <th>4</th>\n",
       "      <td>2015-10-23 17:06:37</td>\n",
       "      <td>Push</td>\n",
       "      <td>Incline Bench Press (Barbell)</td>\n",
       "      <td>5</td>\n",
       "      <td>230.0</td>\n",
       "      <td>8</td>\n",
       "      <td>Friday</td>\n",
       "      <td>17:06:37</td>\n",
       "      <td>night</td>\n",
       "      <td>285.572386</td>\n",
       "    </tr>\n",
       "  </tbody>\n",
       "</table>\n",
       "</div>"
      ],
      "text/plain": [
       "                 Date Workout_Name                  Exercise_Name  Set_Order  \\\n",
       "0 2015-10-23 17:06:37         Push  Incline Bench Press (Barbell)          1   \n",
       "1 2015-10-23 17:06:37         Push  Incline Bench Press (Barbell)          2   \n",
       "2 2015-10-23 17:06:37         Push  Incline Bench Press (Barbell)          3   \n",
       "3 2015-10-23 17:06:37         Push  Incline Bench Press (Barbell)          4   \n",
       "4 2015-10-23 17:06:37         Push  Incline Bench Press (Barbell)          5   \n",
       "\n",
       "   Weight  Reps Weekday      Time Time_Period  Strength_Baseline  \n",
       "0   135.0     8  Friday  17:06:37       night         167.618575  \n",
       "1   135.0     8  Friday  17:06:37       night         167.618575  \n",
       "2   135.0     5  Friday  17:06:37       night         151.890189  \n",
       "3   185.0     7  Friday  17:06:37       night         222.035526  \n",
       "4   230.0     8  Friday  17:06:37       night         285.572386  "
      ]
     },
     "execution_count": 294,
     "metadata": {},
     "output_type": "execute_result"
    }
   ],
   "source": [
    "df['Strength_Baseline'] = df['Weight'] / (1.0278 - 0.0278 * df['Reps'])\n",
    "df.head()"
   ]
  },
  {
   "cell_type": "code",
   "execution_count": 297,
   "metadata": {},
   "outputs": [
    {
     "data": {
      "text/html": [
       "<div>\n",
       "<style scoped>\n",
       "    .dataframe tbody tr th:only-of-type {\n",
       "        vertical-align: middle;\n",
       "    }\n",
       "\n",
       "    .dataframe tbody tr th {\n",
       "        vertical-align: top;\n",
       "    }\n",
       "\n",
       "    .dataframe thead th {\n",
       "        text-align: right;\n",
       "    }\n",
       "</style>\n",
       "<table border=\"1\" class=\"dataframe\">\n",
       "  <thead>\n",
       "    <tr style=\"text-align: right;\">\n",
       "      <th></th>\n",
       "      <th>Workout_Name</th>\n",
       "      <th>mon_workouts</th>\n",
       "      <th>tues_workouts</th>\n",
       "      <th>wed_workouts</th>\n",
       "      <th>thurs_workouts</th>\n",
       "      <th>fri_workouts</th>\n",
       "      <th>sat_workouts</th>\n",
       "      <th>sun_workouts</th>\n",
       "    </tr>\n",
       "  </thead>\n",
       "  <tbody>\n",
       "    <tr>\n",
       "      <th>0</th>\n",
       "      <td>Legs</td>\n",
       "      <td>330</td>\n",
       "      <td>307</td>\n",
       "      <td>480</td>\n",
       "      <td>301</td>\n",
       "      <td>411</td>\n",
       "      <td>409</td>\n",
       "      <td>588</td>\n",
       "    </tr>\n",
       "    <tr>\n",
       "      <th>1</th>\n",
       "      <td>Pull</td>\n",
       "      <td>501</td>\n",
       "      <td>575</td>\n",
       "      <td>352</td>\n",
       "      <td>588</td>\n",
       "      <td>457</td>\n",
       "      <td>630</td>\n",
       "      <td>461</td>\n",
       "    </tr>\n",
       "    <tr>\n",
       "      <th>2</th>\n",
       "      <td>Push</td>\n",
       "      <td>337</td>\n",
       "      <td>463</td>\n",
       "      <td>537</td>\n",
       "      <td>488</td>\n",
       "      <td>535</td>\n",
       "      <td>416</td>\n",
       "      <td>766</td>\n",
       "    </tr>\n",
       "  </tbody>\n",
       "</table>\n",
       "</div>"
      ],
      "text/plain": [
       "  Workout_Name  mon_workouts  tues_workouts  wed_workouts  thurs_workouts  \\\n",
       "0         Legs           330            307           480             301   \n",
       "1         Pull           501            575           352             588   \n",
       "2         Push           337            463           537             488   \n",
       "\n",
       "   fri_workouts  sat_workouts  sun_workouts  \n",
       "0           411           409           588  \n",
       "1           457           630           461  \n",
       "2           535           416           766  "
      ]
     },
     "execution_count": 297,
     "metadata": {},
     "output_type": "execute_result"
    }
   ],
   "source": [
    "day_of_week_workouts = sqldf(\"select Workout_Name, count(case when Weekday = 'Monday' then 1 else NULL end) as mon_workouts, count(case when Weekday = 'Tuesday' then 1 else NULL end) as tues_workouts, count(case when Weekday = 'Wednesday' then 1 else NULL end) as wed_workouts, count(case when Weekday = 'Thursday' then 1 else NULL end) as thurs_workouts, count(case when Weekday = 'Friday' then 1 else NULL end) as fri_workouts, count(case when Weekday = 'Saturday' then 1 else NULL end) as sat_workouts, count(case when Weekday = 'Sunday' then 1 else NULL end) as sun_workouts from df group by 1\")\n",
    "day_of_week_workouts"
   ]
  },
  {
   "cell_type": "code",
   "execution_count": 298,
   "metadata": {},
   "outputs": [
    {
     "data": {
      "text/html": [
       "<div>\n",
       "<style scoped>\n",
       "    .dataframe tbody tr th:only-of-type {\n",
       "        vertical-align: middle;\n",
       "    }\n",
       "\n",
       "    .dataframe tbody tr th {\n",
       "        vertical-align: top;\n",
       "    }\n",
       "\n",
       "    .dataframe thead th {\n",
       "        text-align: right;\n",
       "    }\n",
       "</style>\n",
       "<table border=\"1\" class=\"dataframe\">\n",
       "  <thead>\n",
       "    <tr style=\"text-align: right;\">\n",
       "      <th></th>\n",
       "      <th>sum(mon_workouts)</th>\n",
       "      <th>sum(tues_workouts)</th>\n",
       "      <th>sum(wed_workouts)</th>\n",
       "      <th>sum(thurs_workouts)</th>\n",
       "      <th>sum(fri_workouts)</th>\n",
       "      <th>sum(sat_workouts)</th>\n",
       "      <th>sum(sun_workouts)</th>\n",
       "    </tr>\n",
       "  </thead>\n",
       "  <tbody>\n",
       "    <tr>\n",
       "      <th>0</th>\n",
       "      <td>1168</td>\n",
       "      <td>1345</td>\n",
       "      <td>1369</td>\n",
       "      <td>1377</td>\n",
       "      <td>1403</td>\n",
       "      <td>1455</td>\n",
       "      <td>1815</td>\n",
       "    </tr>\n",
       "  </tbody>\n",
       "</table>\n",
       "</div>"
      ],
      "text/plain": [
       "   sum(mon_workouts)  sum(tues_workouts)  sum(wed_workouts)  \\\n",
       "0               1168                1345               1369   \n",
       "\n",
       "   sum(thurs_workouts)  sum(fri_workouts)  sum(sat_workouts)  \\\n",
       "0                 1377               1403               1455   \n",
       "\n",
       "   sum(sun_workouts)  \n",
       "0               1815  "
      ]
     },
     "execution_count": 298,
     "metadata": {},
     "output_type": "execute_result"
    }
   ],
   "source": [
    "sqldf(\"select sum(mon_workouts), sum(tues_workouts), sum(wed_workouts), sum(thurs_workouts), sum(fri_workouts), sum(sat_workouts), sum(sun_workouts) from day_of_week_workouts\")"
   ]
  },
  {
   "cell_type": "markdown",
   "metadata": {},
   "source": [
    "Sunday has the most workouts out of all of the weekdays"
   ]
  },
  {
   "cell_type": "code",
   "execution_count": 305,
   "metadata": {},
   "outputs": [
    {
     "data": {
      "image/png": "[encoded data removed]",
      "text/plain": [
       "<Figure size 432x288 with 1 Axes>"
      ]
     },
     "metadata": {
      "needs_background": "light"
     },
     "output_type": "display_data"
    }
   ],
   "source": [
    "labels = ['Monday', 'Tuesday', 'Wednesday', 'Thursday', 'Friday', 'Saturday', 'Sunday']\n",
    "push_workouts = day_of_week_workouts.iloc[2, 1:].values\n",
    "pull_workouts = day_of_week_workouts.iloc[1, 1:].values\n",
    "legs_workouts = day_of_week_workouts.iloc[0, 1:].values\n",
    "width = 0.35       # the width of the bars: can also be len(x) sequence\n",
    "\n",
    "fig, ax = plt.subplots()\n",
    "\n",
    "ax.bar(labels, push_workouts, width, label='Push')\n",
    "ax.bar(labels, pull_workouts, width, bottom=push_workouts,\n",
    "       label='Pull')\n",
    "ax.bar(labels, legs_workouts, width, bottom = pull_workouts, label = 'Legs')\n",
    "\n",
    "\n",
    "ax.set_ylabel('Number of Workouts')\n",
    "ax.set_title('Day of Week of Different Workouts')\n",
    "ax.legend(loc = 'center left', bbox_to_anchor=(1, 0.5))\n",
    "\n",
    "plt.show()"
   ]
  },
  {
   "cell_type": "code",
   "execution_count": 308,
   "metadata": {},
   "outputs": [
    {
     "data": {
      "text/plain": [
       "array([330, 307, 480, 301, 411, 409, 588], dtype=object)"
      ]
     },
     "execution_count": 308,
     "metadata": {},
     "output_type": "execute_result"
    }
   ],
   "source": [
    "legs_workouts"
   ]
  },
  {
   "cell_type": "code",
   "execution_count": null,
   "metadata": {},
   "outputs": [],
   "source": []
  }
 ],
 "metadata": {
  "kernelspec": {
   "display_name": "Python 3",
   "language": "python",
   "name": "python3"
  },
  "language_info": {
   "codemirror_mode": {
    "name": "ipython",
    "version": 3
   },
   "file_extension": ".py",
   "mimetype": "text/x-python",
   "name": "python",
   "nbconvert_exporter": "python",
   "pygments_lexer": "ipython3",
   "version": "3.7.6"
  }
 },
 "nbformat": 4,
 "nbformat_minor": 4
}
